{
 "cells": [
  {
   "cell_type": "code",
   "execution_count": 107,
   "id": "cf6d5d8a",
   "metadata": {},
   "outputs": [],
   "source": [
    "import torch\n",
    "import random\n",
    "import matplotlib.pyplot as plt\n",
    "from torchvision import datasets, transforms\n",
    "from torch.utils.data import DataLoader, TensorDataset, Subset, random_split\n",
    "from inference_attack import *\n",
    "from model import *\n",
    "from numpy import argmax"
   ]
  },
  {
   "cell_type": "code",
   "execution_count": null,
   "id": "a1bf8657",
   "metadata": {},
   "outputs": [],
   "source": [
    "# Configuration\n",
    "model = 1\n",
    "device = torch.device(\"cuda\" if torch.cuda.is_available() else \"cpu\")\n",
    "rng_seed = 0\n",
    "dataset_name = \"MNIST\"                         # \"MNIST\" or \"CIFAR10\"\n",
    "data_path = \"./data\"\n",
    "\n",
    "# Part 1 Use pretrained model to create a dataset for gradient classification\n",
    "pretrained_model_path = \"trained_model_MNIST.pth\"\n",
    "criterion_pretrained_model = torch.nn.CrossEntropyLoss()\n",
    "num_classes = 10\n",
    "inference_dataset_size = 500\n",
    "batch_size_pretrained_model = 2\n",
    "\n",
    "# Part 2 Train gradient classifier on gradient dataset\n",
    "learning_rate_gradient_classifier = 0.001\n",
    "criterion_grad_classifier = kl_div\n",
    "train_size = 0.7\n",
    "test_size = 1 - train_size\n",
    "num_epochs = 15\n",
    "batch_size_gradient_classifier = 16\n",
    "\n",
    "# Part 3 Make inference on estimated gradient update\n",
    "target_model_path = \"GS_target_1.pth\"\n",
    "target_dataset_path = \"target_1_dataset.pth\"\n",
    "learning_rate_pretrained_model = 0.01\n",
    "num_clients_fl = 10"
   ]
  },
  {
   "cell_type": "code",
   "execution_count": 109,
   "id": "8fed30bd",
   "metadata": {},
   "outputs": [],
   "source": [
    "# Make reproducible\n",
    "random.seed(rng_seed)\n",
    "torch.manual_seed(rng_seed)\n",
    "np.random.seed(rng_seed)"
   ]
  },
  {
   "cell_type": "markdown",
   "id": "e910d2fc",
   "metadata": {},
   "source": [
    "## Part 1. Use pretrained model to create a dataset for gradient classification"
   ]
  },
  {
   "cell_type": "code",
   "execution_count": 110,
   "id": "a09708db",
   "metadata": {},
   "outputs": [],
   "source": [
    "# load dataset (we use test datasets to train the model on samples that have not been used in training of the global model)\n",
    "if dataset_name == \"MNIST\":\n",
    "    transform = transforms.Compose([\n",
    "        transforms.ToTensor(),\n",
    "        transforms.Normalize((0.1307,), (0.3081,))\n",
    "    ])\n",
    "    dataset = datasets.MNIST(root=data_path, train=False, download=True, transform=transform)\n",
    "    input_shape = (1, 28, 28)\n",
    "\n",
    "elif dataset_name == \"CIFAR10\":\n",
    "    transform = transforms.Compose([\n",
    "        transforms.ToTensor(),\n",
    "        transforms.Normalize((0.4914, 0.4822, 0.4465),\n",
    "                             (0.2470, 0.2435, 0.2616))\n",
    "    ])\n",
    "    dataset = datasets.CIFAR10(root=data_path, train=False, download=True, transform=transform)\n",
    "    input_shape = (3, 32, 32)\n",
    "\n",
    "else:\n",
    "    raise ValueError(f\"Unsupported dataset: {dataset_name}\")\n",
    "\n",
    "indices = random.sample(range(len(dataset)), inference_dataset_size * batch_size_pretrained_model)\n",
    "dataset = Subset(dataset, indices=indices)\n",
    "\n",
    "dataloader = DataLoader(dataset, batch_size=batch_size_pretrained_model, shuffle=False)"
   ]
  },
  {
   "cell_type": "code",
   "execution_count": 111,
   "id": "88bc0655",
   "metadata": {},
   "outputs": [
    {
     "data": {
      "text/plain": [
       "<All keys matched successfully>"
      ]
     },
     "execution_count": 111,
     "metadata": {},
     "output_type": "execute_result"
    }
   ],
   "source": [
    "# load pretrained model\n",
    "theta_0 = torch.load(pretrained_model_path)\n",
    "\n",
    "if model == 1:\n",
    "    inference_model = Model1(input_shape, num_classes).to(device)\n",
    "elif model == 2:\n",
    "    inference_model = Model2(input_shape, num_classes).to(device)\n",
    "else:\n",
    "    print('Unknown model:', model)\n",
    "\n",
    "inference_model.load_state_dict(state_dict=theta_0)"
   ]
  },
  {
   "cell_type": "code",
   "execution_count": 112,
   "id": "b27d9069",
   "metadata": {},
   "outputs": [],
   "source": [
    "# collect gradient features\n",
    "features = []\n",
    "labels = []\n",
    "\n",
    "inference_model.to(device)\n",
    "inference_model.train() # eval can make some layers behave differently (Not in our case)\n",
    "\n",
    "for x, y in dataloader:\n",
    "    x, y = x.to(device), y.to(device)\n",
    "\n",
    "    # Forward pass\n",
    "    output = inference_model(x)\n",
    "    loss = criterion_pretrained_model(output, y)\n",
    "\n",
    "    # Compute gradients w.r.t. model parameters (except fc)\n",
    "    fc_params = set(p for p in inference_model.fc.parameters())\n",
    "    all_params = list(inference_model.parameters())\n",
    "    params_except_fc = [p for p in all_params if p not in fc_params]\n",
    "    grad = torch.autograd.grad(loss, params_except_fc, retain_graph=False)\n",
    "    # grad = torch.autograd.grad(loss, inference_model.parameters(), retain_graph=False)\n",
    "    grad_vector = torch.cat([g.view(-1) for g in grad])  # Flatten and concatenate\n",
    "\n",
    "    # Detach and store\n",
    "    features.append(grad_vector.detach().cpu().float())\n",
    "    labels.append(multi_hot_encode(y, num_classes))\n",
    "\n",
    "features = torch.stack(features)\n",
    "labels = torch.stack(labels).float()\n",
    "\n",
    "dataset = TensorDataset(features, labels)\n",
    "input_dim = features.shape[1]\n",
    "output_dim = labels.shape[1]"
   ]
  },
  {
   "cell_type": "code",
   "execution_count": 113,
   "id": "1f50ba13",
   "metadata": {},
   "outputs": [
    {
     "name": "stdout",
     "output_type": "stream",
     "text": [
      "500\n"
     ]
    }
   ],
   "source": [
    "temploader = DataLoader(dataset, batch_size=1, shuffle=True)\n",
    "cnt = 0\n",
    "for x, y in temploader:\n",
    "    cnt += 1\n",
    "print(cnt)"
   ]
  },
  {
   "cell_type": "code",
   "execution_count": 114,
   "id": "98f6e420",
   "metadata": {},
   "outputs": [],
   "source": [
    "# Dataset augmentation arbitrary scaling"
   ]
  },
  {
   "cell_type": "markdown",
   "id": "16963933",
   "metadata": {},
   "source": [
    "## Part 2. Train gradient classifier on gradient dataset"
   ]
  },
  {
   "cell_type": "code",
   "execution_count": 115,
   "id": "f3cba6f6",
   "metadata": {},
   "outputs": [
    {
     "name": "stdout",
     "output_type": "stream",
     "text": [
      "350 150\n"
     ]
    }
   ],
   "source": [
    "# dataset split\n",
    "tmp_train = int(train_size*inference_dataset_size)\n",
    "tmp_test = inference_dataset_size - tmp_train\n",
    "# tmp_test = int(inference_dataset_size/batch_size_pretrained_model-tmp_train)\n",
    "print(tmp_train, tmp_test)\n",
    "\n",
    "train_dataset, test_dataset = random_split(dataset, [tmp_train, tmp_test])\n",
    "\n",
    "train_loader = DataLoader(train_dataset, batch_size=batch_size_gradient_classifier, shuffle=True)\n",
    "test_loader = DataLoader(test_dataset, batch_size=batch_size_gradient_classifier)"
   ]
  },
  {
   "cell_type": "code",
   "execution_count": 116,
   "id": "9834dc7a",
   "metadata": {},
   "outputs": [
    {
     "name": "stdout",
     "output_type": "stream",
     "text": [
      "Epoch 1/15 | Loss: 1.6648 | Accuracy: 0.46\n",
      "Test Loss: 1.5937 | Cosine Similarity: 0.5929, Test Accuracy: 0.4867\n",
      "Epoch 2/15 | Loss: 1.4846 | Accuracy: 0.50\n",
      "Test Loss: 1.3689 | Cosine Similarity: 0.7224, Test Accuracy: 0.5400\n",
      "Epoch 3/15 | Loss: 1.3370 | Accuracy: 0.63\n",
      "Test Loss: 1.3124 | Cosine Similarity: 0.7543, Test Accuracy: 0.6367\n",
      "Epoch 4/15 | Loss: 1.3042 | Accuracy: 0.69\n",
      "Test Loss: 1.2922 | Cosine Similarity: 0.7705, Test Accuracy: 0.7433\n",
      "Epoch 5/15 | Loss: 1.2877 | Accuracy: 0.80\n",
      "Test Loss: 1.2786 | Cosine Similarity: 0.7959, Test Accuracy: 0.8633\n",
      "Epoch 6/15 | Loss: 1.2769 | Accuracy: 0.87\n",
      "Test Loss: 1.2701 | Cosine Similarity: 0.8126, Test Accuracy: 0.9333\n",
      "Epoch 7/15 | Loss: 1.2733 | Accuracy: 0.93\n",
      "Test Loss: 1.2654 | Cosine Similarity: 0.8361, Test Accuracy: 0.9533\n",
      "Epoch 8/15 | Loss: 1.2701 | Accuracy: 0.92\n",
      "Test Loss: 1.2630 | Cosine Similarity: 0.8515, Test Accuracy: 0.9567\n",
      "Epoch 9/15 | Loss: 1.2674 | Accuracy: 0.91\n",
      "Test Loss: 1.2622 | Cosine Similarity: 0.8547, Test Accuracy: 0.9700\n",
      "Epoch 10/15 | Loss: 1.2650 | Accuracy: 0.93\n",
      "Test Loss: 1.2592 | Cosine Similarity: 0.8719, Test Accuracy: 0.9600\n",
      "Epoch 11/15 | Loss: 1.2633 | Accuracy: 0.91\n",
      "Test Loss: 1.2581 | Cosine Similarity: 0.8787, Test Accuracy: 0.9667\n",
      "Epoch 12/15 | Loss: 1.2632 | Accuracy: 0.92\n",
      "Test Loss: 1.2574 | Cosine Similarity: 0.8836, Test Accuracy: 0.9667\n",
      "Epoch 13/15 | Loss: 1.2630 | Accuracy: 0.92\n",
      "Test Loss: 1.2574 | Cosine Similarity: 0.8824, Test Accuracy: 0.9767\n",
      "Epoch 14/15 | Loss: 1.2614 | Accuracy: 0.92\n",
      "Test Loss: 1.2572 | Cosine Similarity: 0.8834, Test Accuracy: 0.9633\n",
      "Epoch 15/15 | Loss: 1.2602 | Accuracy: 0.93\n",
      "Test Loss: 1.2569 | Cosine Similarity: 0.8863, Test Accuracy: 0.9733\n"
     ]
    }
   ],
   "source": [
    "# Model training\n",
    "grad_classifier_model = GradientClassifier(input_dim=input_dim, output_dim=output_dim)\n",
    "grad_classifier_model.to(device)\n",
    "\n",
    "hist_train_acc, hist_test_acc, hist_train_loss, hist_test_loss = train_grad_classifier(grad_classifier_model, train_loader, test_loader, criterion_grad_classifier, batch_size_pretrained_model, num_epochs=num_epochs, lr=learning_rate_gradient_classifier, device=device)"
   ]
  },
  {
   "cell_type": "code",
   "execution_count": 117,
   "id": "a54938ce",
   "metadata": {},
   "outputs": [
    {
     "data": {
      "image/png": "[encoded data removed]",
      "text/plain": [
       "<Figure size 1000x400 with 2 Axes>"
      ]
     },
     "metadata": {},
     "output_type": "display_data"
    }
   ],
   "source": [
    "epcs = range(1, num_epochs + 1)\n",
    "\n",
    "# Plot accuracy\n",
    "plt.figure(figsize=(10, 4))\n",
    "plt.subplot(1, 2, 2)\n",
    "plt.plot(epcs, hist_train_acc, 'b-', label='Train Accuracy')\n",
    "plt.plot(epcs, hist_test_acc, 'r-', label='Test Accuracy')\n",
    "plt.title('Model Accuracy')\n",
    "plt.xlabel('Epoch')\n",
    "plt.ylabel('Accuracy')\n",
    "plt.legend()\n",
    "plt.grid(True)\n",
    "\n",
    "# Plot loss\n",
    "plt.subplot(1, 2, 1)\n",
    "plt.plot(epcs, hist_train_loss, 'b-', label='Train Loss')\n",
    "plt.plot(epcs, hist_test_loss, 'r-', label='Test Loss')\n",
    "plt.title('Model Loss')\n",
    "plt.xlabel('Epoch')\n",
    "plt.ylabel('Loss')\n",
    "plt.legend()\n",
    "plt.grid(True)\n",
    "\n",
    "plt.tight_layout()\n",
    "plt.show()"
   ]
  },
  {
   "cell_type": "code",
   "execution_count": 118,
   "id": "a04aafa8",
   "metadata": {},
   "outputs": [
    {
     "name": "stdout",
     "output_type": "stream",
     "text": [
      "Test Loss: 1.2569 | Cosine Similarity: 0.8863, Test Accuracy: 0.9733\n"
     ]
    }
   ],
   "source": [
    "# Model evaluation\n",
    "test_preds, acc, avg_loss = evaluate_model(grad_classifier_model, test_loader, criterion_grad_classifier, batch_size_pretrained_model, device)"
   ]
  },
  {
   "cell_type": "markdown",
   "id": "3449ad44",
   "metadata": {},
   "source": [
    "## Part 3. Make inference on estimated gradient update"
   ]
  },
  {
   "cell_type": "code",
   "execution_count": 119,
   "id": "ce90cee7",
   "metadata": {},
   "outputs": [],
   "source": [
    "# load true gradient update\n",
    "true_grad = torch.load('DEBUG_true_grads.pth')\n",
    "# remove fc layer\n",
    "true_grad = remove_layers(true_grad, ['fc.weight', 'fc.bias'])"
   ]
  },
  {
   "cell_type": "code",
   "execution_count": 120,
   "id": "25f49879",
   "metadata": {},
   "outputs": [
    {
     "name": "stdout",
     "output_type": "stream",
     "text": [
      "cosine similarity between estimated gradient and true gradient: 1.0000\n",
      "mse between estimated gradient and true gradient: 0.0000\n"
     ]
    }
   ],
   "source": [
    "# Estimate gradient update\n",
    "theta_0 = torch.load(pretrained_model_path)\n",
    "theta_1 = torch.load(target_model_path)\n",
    "# remove fc layer\n",
    "theta_0 = remove_layers(theta_0, ['fc.weight', 'fc.bias'])\n",
    "theta_1 = remove_layers(theta_1, ['fc.weight', 'fc.bias'])\n",
    "# \n",
    "theta_1 = state_dict_scale(theta_1, num_clients_fl)\n",
    "est_grad = estimate_gradient(theta_0, theta_1, learning_rate_pretrained_model)\n",
    "\n",
    "cs = state_dicts_average_cosine_similarity(est_grad, true_grad)\n",
    "mse = state_dicts_mse(est_grad, true_grad)\n",
    "print(f'cosine similarity between estimated gradient and true gradient: {cs:.4f}')\n",
    "print(f'mse between estimated gradient and true gradient: {mse:.4f}')"
   ]
  },
  {
   "cell_type": "code",
   "execution_count": 121,
   "id": "4ecdfbac",
   "metadata": {},
   "outputs": [
    {
     "name": "stdout",
     "output_type": "stream",
     "text": [
      "[1.5724826880614273e-05, 6.333755209197989e-06, 6.790926272515208e-05, 2.0211402443237603e-05, 0.9995467066764832, 5.646528006764129e-05, 8.773510671744589e-06, 0.0002199658047175035, 2.3399130441248417e-05, 3.452683813520707e-05]\n"
     ]
    },
    {
     "data": {
      "image/png": "[encoded data removed]",
      "text/plain": [
       "<Figure size 640x480 with 1 Axes>"
      ]
     },
     "metadata": {},
     "output_type": "display_data"
    }
   ],
   "source": [
    "# Inference\n",
    "est_grad_vector = torch.cat([est_grad[key].view(-1) for key in est_grad.keys()]).unsqueeze(0)\n",
    "inferred = grad_classifier_model(est_grad_vector)\n",
    "inferred = inferred.tolist()[0]\n",
    "print(inferred)\n",
    "\n",
    "target_dataset = torch.load(target_dataset_path)\n",
    "target_dataset = target_dataset[\"dataset\"]\n",
    "target_label = [0 for i in range(num_classes)]\n",
    "den = len(target_dataset)\n",
    "for idx in target_dataset:\n",
    "    target_label[idx] = 1 / den\n",
    "\n",
    "bar_width = 0.35\n",
    "x = np.arange(num_classes)\n",
    "\n",
    "plt.bar(x - bar_width/2, inferred, width=bar_width, label='Inferred')\n",
    "plt.bar(x + bar_width/2, target_label, width=bar_width, label='Target dataset')\n",
    "plt.legend()\n",
    "\n",
    "plt.tight_layout()\n",
    "plt.show()"
   ]
  }
 ],
 "metadata": {
  "kernelspec": {
   "display_name": ".venv",
   "language": "python",
   "name": "python3"
  },
  "language_info": {
   "codemirror_mode": {
    "name": "ipython",
    "version": 3
   },
   "file_extension": ".py",
   "mimetype": "text/x-python",
   "name": "python",
   "nbconvert_exporter": "python",
   "pygments_lexer": "ipython3",
   "version": "3.13.3"
  }
 },
 "nbformat": 4,
 "nbformat_minor": 5
}
