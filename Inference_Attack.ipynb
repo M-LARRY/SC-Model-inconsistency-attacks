{
 "cells": [
  {
   "cell_type": "code",
   "execution_count": 1,
   "id": "cf6d5d8a",
   "metadata": {},
   "outputs": [],
   "source": [
    "import torch\n",
    "import random\n",
    "import matplotlib.pyplot as plt\n",
    "from torchvision import datasets, transforms\n",
    "from torch.utils.data import DataLoader, TensorDataset, Subset, random_split\n",
    "from inference_attack import *\n",
    "from model import *"
   ]
  },
  {
   "cell_type": "code",
   "execution_count": null,
   "id": "a1bf8657",
   "metadata": {},
   "outputs": [],
   "source": [
    "# Configuration\n",
    "model = 1\n",
    "device = torch.device(\"cuda\" if torch.cuda.is_available() else \"cpu\")\n",
    "rng_seed = 0\n",
    "dataset_name = \"MNIST\"                         # \"MNIST\" or \"CIFAR10\"\n",
    "data_path = \"./data\"\n",
    "\n",
    "# Part 1 Use pretrained model to create a dataset for gradient classification\n",
    "pretrained_model_path = \"trained_model_MNIST.pth\"\n",
    "criterion_pretrained_model = torch.nn.CrossEntropyLoss()\n",
    "num_classes = 10\n",
    "inference_dataset_size = 500\n",
    "batch_size_pretrained_model = 1\n",
    "\n",
    "# Part 2 Train gradient classifier on gradient dataset\n",
    "learning_rate_gradient_classifier = 0.001\n",
    "criterion_grad_classifier = kl_div\n",
    "# criterion_grad_classifier = nn.BCELoss()\n",
    "train_size = 0.7\n",
    "test_size = 1 - train_size\n",
    "num_epochs = 3\n",
    "batch_size_gradient_classifier = 16\n",
    "\n",
    "# Part 3 Make inference on estimated gradient update\n",
    "target_model_path = \"GS_target_0.pth\"\n",
    "learning_rate_pretrained_model = 0.01"
   ]
  },
  {
   "cell_type": "code",
   "execution_count": 3,
   "id": "8fed30bd",
   "metadata": {},
   "outputs": [],
   "source": [
    "# Make reproducible\n",
    "random.seed(rng_seed)\n",
    "torch.manual_seed(rng_seed)\n",
    "np.random.seed(rng_seed)"
   ]
  },
  {
   "cell_type": "markdown",
   "id": "e910d2fc",
   "metadata": {},
   "source": [
    "## Part 1. Use pretrained model to create a dataset for gradient classification"
   ]
  },
  {
   "cell_type": "code",
   "execution_count": 4,
   "id": "a09708db",
   "metadata": {},
   "outputs": [],
   "source": [
    "# load dataset (we use test datasets to train the model on samples that have not been used in training of the global model)\n",
    "if dataset_name == \"MNIST\":\n",
    "    transform = transforms.Compose([\n",
    "        transforms.ToTensor(),\n",
    "        transforms.Normalize((0.1307,), (0.3081,))\n",
    "    ])\n",
    "    dataset = datasets.MNIST(root=data_path, train=False, download=True, transform=transform)\n",
    "    input_shape = (1, 28, 28)\n",
    "\n",
    "elif dataset_name == \"CIFAR10\":\n",
    "    transform = transforms.Compose([\n",
    "        transforms.ToTensor(),\n",
    "        transforms.Normalize((0.4914, 0.4822, 0.4465),\n",
    "                             (0.2470, 0.2435, 0.2616))\n",
    "    ])\n",
    "    dataset = datasets.CIFAR10(root=data_path, train=False, download=True, transform=transform)\n",
    "    input_shape = (3, 32, 32)\n",
    "\n",
    "else:\n",
    "    raise ValueError(f\"Unsupported dataset: {dataset_name}\")\n",
    "\n",
    "indices = random.sample(range(len(dataset)), inference_dataset_size)\n",
    "dataset = Subset(dataset, indices=indices)\n",
    "\n",
    "dataloader = DataLoader(dataset, batch_size=batch_size_pretrained_model, shuffle=False)"
   ]
  },
  {
   "cell_type": "code",
   "execution_count": 5,
   "id": "88bc0655",
   "metadata": {},
   "outputs": [
    {
     "data": {
      "text/plain": [
       "<All keys matched successfully>"
      ]
     },
     "execution_count": 5,
     "metadata": {},
     "output_type": "execute_result"
    }
   ],
   "source": [
    "# load pretrained model\n",
    "theta_0 = torch.load(pretrained_model_path)\n",
    "\n",
    "if model == 1:\n",
    "    inference_model = Model1(input_shape, num_classes).to(device)\n",
    "elif model == 2:\n",
    "    inference_model = Model2(input_shape, num_classes).to(device)\n",
    "else:\n",
    "    print('Unknown model:', model)\n",
    "\n",
    "inference_model.load_state_dict(state_dict=theta_0)"
   ]
  },
  {
   "cell_type": "code",
   "execution_count": 6,
   "id": "b27d9069",
   "metadata": {},
   "outputs": [],
   "source": [
    "# collect gradient features\n",
    "features = []\n",
    "labels = []\n",
    "\n",
    "inference_model.to(device)\n",
    "inference_model.train() # eval can make some layers behave differently (Not in our case)\n",
    "\n",
    "for x, y in dataloader:\n",
    "    x, y = x.to(device), y.to(device)\n",
    "\n",
    "    # Forward pass\n",
    "    output = inference_model(x)\n",
    "    loss = criterion_pretrained_model(output, y)\n",
    "\n",
    "    # print(\"pr:\", output, \"gt:\", y)\n",
    "\n",
    "    # Compute gradients w.r.t. model parameters\n",
    "    grad = torch.autograd.grad(loss, inference_model.parameters(), retain_graph=False)\n",
    "    # grad = torch.autograd.grad(loss, [inference_model.fc1.weight, inference_model.fc1.bias], retain_graph=False)\n",
    "    grad_vector = torch.cat([g.view(-1) for g in grad])  # Flatten and concatenate\n",
    "\n",
    "    # Detach and store\n",
    "    features.append(grad_vector.detach().cpu().float())\n",
    "    # labels.append(one_hot_encode(y.item(), num_classes))\n",
    "    labels.append(multi_hot_encode(y, num_classes))\n",
    "    # print(multi_hot_encode(y, num_classes))\n",
    "    \n",
    "    # DEBUG\n",
    "    if torch.equal(multi_hot_encode(y, num_classes), multi_hot_encode(torch.tensor([7]), num_classes)):\n",
    "        saved_grad = grad_vector.unsqueeze(0)\n",
    "\n",
    "features = torch.stack(features)\n",
    "labels = torch.stack(labels).float()\n",
    "#labels = torch.stack([y.detach().clone().float32() for y in labels])\n",
    "\n",
    "dataset = TensorDataset(features, labels)\n",
    "input_dim = features.shape[1]\n",
    "output_dim = labels.shape[1]"
   ]
  },
  {
   "cell_type": "markdown",
   "id": "16963933",
   "metadata": {},
   "source": [
    "## Part 2. Train gradient classifier on gradient dataset"
   ]
  },
  {
   "cell_type": "code",
   "execution_count": 7,
   "id": "f3cba6f6",
   "metadata": {},
   "outputs": [
    {
     "name": "stdout",
     "output_type": "stream",
     "text": [
      "350 150\n"
     ]
    }
   ],
   "source": [
    "# dataset split\n",
    "tmp_train = int(train_size*inference_dataset_size/batch_size_pretrained_model)\n",
    "tmp_test = int(inference_dataset_size/batch_size_pretrained_model-tmp_train)\n",
    "print(tmp_train, tmp_test)\n",
    "\n",
    "train_dataset, test_dataset = random_split(dataset, [tmp_train, tmp_test])\n",
    "\n",
    "train_loader = DataLoader(train_dataset, batch_size=batch_size_gradient_classifier, shuffle=True)\n",
    "test_loader = DataLoader(test_dataset, batch_size=batch_size_gradient_classifier)"
   ]
  },
  {
   "cell_type": "code",
   "execution_count": 8,
   "id": "9834dc7a",
   "metadata": {},
   "outputs": [
    {
     "name": "stdout",
     "output_type": "stream",
     "text": [
      "Epoch 1/3 | Loss: 2.0684 | Accuracy: 0.00%\n",
      "Test Loss: 1.8787 | Cosine Similarity: 0.7277\n",
      "Epoch 2/3 | Loss: 1.8140 | Accuracy: 0.00%\n",
      "Test Loss: 1.7673 | Cosine Similarity: 0.8111\n",
      "Epoch 3/3 | Loss: 1.7178 | Accuracy: 0.00%\n",
      "Test Loss: 1.7145 | Cosine Similarity: 0.8391\n"
     ]
    }
   ],
   "source": [
    "# Model training\n",
    "grad_classifier_model = GradientClassifier(input_dim=input_dim, output_dim=output_dim)\n",
    "grad_classifier_model.to(device)\n",
    "\n",
    "train_grad_classifier(grad_classifier_model, train_loader, test_loader, criterion_grad_classifier, num_epochs=num_epochs, lr=learning_rate_gradient_classifier, device=device)"
   ]
  },
  {
   "cell_type": "code",
   "execution_count": 9,
   "id": "a04aafa8",
   "metadata": {},
   "outputs": [
    {
     "name": "stdout",
     "output_type": "stream",
     "text": [
      "Test Loss: 1.7145 | Cosine Similarity: 0.8391\n"
     ]
    }
   ],
   "source": [
    "# Model evaluation\n",
    "test_preds = evaluate_model(grad_classifier_model, test_loader, criterion_grad_classifier, device)"
   ]
  },
  {
   "cell_type": "markdown",
   "id": "3449ad44",
   "metadata": {},
   "source": [
    "## Part 3. Make inference on estimated gradient update"
   ]
  },
  {
   "cell_type": "code",
   "execution_count": 10,
   "id": "72fe697d",
   "metadata": {},
   "outputs": [],
   "source": [
    "# Estimate the target gradient update as theta_0 - theta_1 / lr\n",
    "# theta_1 = torch.load(target_model_path)\n",
    "# est_grad = elementwise_diff_state_dicts(theta_0, theta_1, learning_rate_pretrained_model)\n",
    "# est_grad_vector = dict_to_tensor(est_grad).unsqueeze(0)\n",
    "# for key in est_grad.keys():\n",
    "#     print(est_grad[key].shape)\n",
    "\n",
    "# est_grad_vector = torch.cat([est_grad[key].view(-1) for key in est_grad.keys()]).unsqueeze(0)"
   ]
  },
  {
   "cell_type": "code",
   "execution_count": 11,
   "id": "7a112747",
   "metadata": {},
   "outputs": [
    {
     "name": "stdout",
     "output_type": "stream",
     "text": [
      "est_grad and true_grad -0.020676113228546456\n",
      "theta_0 and theta_0_D 0.9620247259736061\n",
      "theta_1 and theta_1_D 0.9618029594421387\n",
      "est_grad and est_grad_D -0.02068660664372146\n",
      "true_grad and est_grad_D 1.0000000447034836\n",
      "----------\n",
      "-0.07688275910913944\n"
     ]
    }
   ],
   "source": [
    "# estimate update gradient and compare with true update\n",
    "theta_0 = torch.load('trained_model_MNIST.pth')\n",
    "theta_1 = torch.load('target_0.pth')\n",
    "est_grad = elementwise_diff_state_dicts(theta_0, theta_1, learning_rate_pretrained_model)\n",
    "\n",
    "theta_0_D = torch.load('DEBUG_initial_state.pth')\n",
    "theta_1_D = torch.load('DEBUG_updated_state.pth')\n",
    "est_grad_D = elementwise_diff_state_dicts(theta_0_D, theta_1_D, learning_rate_pretrained_model)\n",
    "\n",
    "true_grad = torch.load('DEBUG_true_grads.pth')\n",
    "\n",
    "print('est_grad and true_grad', state_dicts_average_cosine_similarity(est_grad, true_grad))\n",
    "print('theta_0 and theta_0_D', state_dicts_average_cosine_similarity(theta_0, theta_0_D))\n",
    "print('theta_1 and theta_1_D', state_dicts_average_cosine_similarity(theta_1, theta_1_D))\n",
    "print('est_grad and est_grad_D', state_dicts_average_cosine_similarity(est_grad, est_grad_D))\n",
    "print('true_grad and est_grad_D', state_dicts_average_cosine_similarity(true_grad, est_grad_D))\n",
    "print('----------')\n",
    "est_grad_alt = elementwise_diff_state_dicts(theta_0, theta_1_D, learning_rate_pretrained_model)\n",
    "print(state_dicts_average_cosine_similarity(est_grad_alt, true_grad))"
   ]
  },
  {
   "cell_type": "code",
   "execution_count": 12,
   "id": "ede59329",
   "metadata": {},
   "outputs": [
    {
     "name": "stdout",
     "output_type": "stream",
     "text": [
      "[0.0, 0.0, 0.0, 0.0, 0.0, 0.0, 0.0, 1.0, 0.0, 0.0]\n"
     ]
    },
    {
     "data": {
      "image/png": "[encoded data removed]",
      "text/plain": [
       "<Figure size 640x480 with 1 Axes>"
      ]
     },
     "metadata": {},
     "output_type": "display_data"
    }
   ],
   "source": [
    "# Inference\n",
    "est_grad_vector = torch.cat([est_grad[key].view(-1) for key in est_grad.keys()]).unsqueeze(0)\n",
    "inferred = grad_classifier_model(est_grad_vector)\n",
    "inferred = inferred.tolist()[0]\n",
    "print(inferred)\n",
    "plt.bar(range(num_classes), inferred)\n",
    "plt.show()"
   ]
  }
 ],
 "metadata": {
  "kernelspec": {
   "display_name": ".venv",
   "language": "python",
   "name": "python3"
  },
  "language_info": {
   "codemirror_mode": {
    "name": "ipython",
    "version": 3
   },
   "file_extension": ".py",
   "mimetype": "text/x-python",
   "name": "python",
   "nbconvert_exporter": "python",
   "pygments_lexer": "ipython3",
   "version": "3.13.3"
  }
 },
 "nbformat": 4,
 "nbformat_minor": 5
}
