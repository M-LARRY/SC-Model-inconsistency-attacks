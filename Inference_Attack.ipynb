{
 "cells": [
  {
   "cell_type": "code",
   "execution_count": 63,
   "id": "cf6d5d8a",
   "metadata": {},
   "outputs": [],
   "source": [
    "import torch\n",
    "import random\n",
    "import matplotlib.pyplot as plt\n",
    "from torchvision import datasets, transforms\n",
    "from torch.utils.data import DataLoader, TensorDataset, Subset, random_split\n",
    "from inference_attack import *\n",
    "from model import *\n",
    "from numpy import argmax\n",
    "import torch.nn.functional as F"
   ]
  },
  {
   "cell_type": "code",
   "execution_count": 64,
   "id": "a1bf8657",
   "metadata": {},
   "outputs": [],
   "source": [
    "# Configuration\n",
    "model = 1\n",
    "device = torch.device(\"cuda\" if torch.cuda.is_available() else \"cpu\")\n",
    "rng_seed = 0\n",
    "dataset_name = \"MNIST\"                         # \"MNIST\" or \"CIFAR10\"\n",
    "data_path = \"./data\"\n",
    "\n",
    "# Part 1 Use pretrained model to create a dataset for gradient classification\n",
    "pretrained_model_path = \"trained_model_MNIST.pth\"\n",
    "criterion_pretrained_model = torch.nn.CrossEntropyLoss()\n",
    "num_classes = 10\n",
    "inference_dataset_size = 501\n",
    "batch_size_pretrained_model = 3\n",
    "\n",
    "# Part 2 Train gradient classifier on gradient dataset\n",
    "learning_rate_gradient_classifier = 0.001\n",
    "criterion_grad_classifier = kl_div\n",
    "train_size = 0.7\n",
    "test_size = 1 - train_size\n",
    "num_epochs = 15\n",
    "batch_size_gradient_classifier = 16\n",
    "\n",
    "# Part 3 Make inference on estimated gradient update\n",
    "target_model_path = \"GS_target_2.pth\"\n",
    "learning_rate_pretrained_model = 0.01\n",
    "num_clients_fl = 10"
   ]
  },
  {
   "cell_type": "code",
   "execution_count": 65,
   "id": "8fed30bd",
   "metadata": {},
   "outputs": [],
   "source": [
    "# Make reproducible\n",
    "random.seed(rng_seed)\n",
    "torch.manual_seed(rng_seed)\n",
    "np.random.seed(rng_seed)"
   ]
  },
  {
   "cell_type": "markdown",
   "id": "e910d2fc",
   "metadata": {},
   "source": [
    "## Part 1. Use pretrained model to create a dataset for gradient classification"
   ]
  },
  {
   "cell_type": "code",
   "execution_count": 66,
   "id": "a09708db",
   "metadata": {},
   "outputs": [],
   "source": [
    "# load dataset (we use test datasets to train the model on samples that have not been used in training of the global model)\n",
    "if dataset_name == \"MNIST\":\n",
    "    transform = transforms.Compose([\n",
    "        transforms.ToTensor(),\n",
    "        transforms.Normalize((0.1307,), (0.3081,))\n",
    "    ])\n",
    "    dataset = datasets.MNIST(root=data_path, train=False, download=True, transform=transform)\n",
    "    input_shape = (1, 28, 28)\n",
    "\n",
    "elif dataset_name == \"CIFAR10\":\n",
    "    transform = transforms.Compose([\n",
    "        transforms.ToTensor(),\n",
    "        transforms.Normalize((0.4914, 0.4822, 0.4465),\n",
    "                             (0.2470, 0.2435, 0.2616))\n",
    "    ])\n",
    "    dataset = datasets.CIFAR10(root=data_path, train=False, download=True, transform=transform)\n",
    "    input_shape = (3, 32, 32)\n",
    "\n",
    "else:\n",
    "    raise ValueError(f\"Unsupported dataset: {dataset_name}\")\n",
    "\n",
    "indices = random.sample(range(len(dataset)), inference_dataset_size)\n",
    "dataset = Subset(dataset, indices=indices)\n",
    "\n",
    "dataloader = DataLoader(dataset, batch_size=batch_size_pretrained_model, shuffle=False)"
   ]
  },
  {
   "cell_type": "code",
   "execution_count": 67,
   "id": "88bc0655",
   "metadata": {},
   "outputs": [
    {
     "data": {
      "text/plain": [
       "<All keys matched successfully>"
      ]
     },
     "execution_count": 67,
     "metadata": {},
     "output_type": "execute_result"
    }
   ],
   "source": [
    "# load pretrained model\n",
    "theta_0 = torch.load(pretrained_model_path)\n",
    "\n",
    "if model == 1:\n",
    "    inference_model = Model1(input_shape, num_classes).to(device)\n",
    "elif model == 2:\n",
    "    inference_model = Model2(input_shape, num_classes).to(device)\n",
    "else:\n",
    "    print('Unknown model:', model)\n",
    "\n",
    "inference_model.load_state_dict(state_dict=theta_0)"
   ]
  },
  {
   "cell_type": "code",
   "execution_count": 68,
   "id": "b27d9069",
   "metadata": {},
   "outputs": [],
   "source": [
    "# collect gradient features\n",
    "features = []\n",
    "labels = []\n",
    "\n",
    "inference_model.to(device)\n",
    "inference_model.train() # eval can make some layers behave differently (Not in our case)\n",
    "\n",
    "for x, y in dataloader:\n",
    "    x, y = x.to(device), y.to(device)\n",
    "\n",
    "    # Forward pass\n",
    "    output = inference_model(x)\n",
    "    loss = criterion_pretrained_model(output, y)\n",
    "\n",
    "    # Compute gradients w.r.t. model parameters (except fc)\n",
    "    fc_params = set(p for p in inference_model.fc.parameters())\n",
    "    all_params = list(inference_model.parameters())\n",
    "    params_except_fc = [p for p in all_params if p not in fc_params]\n",
    "    grad = torch.autograd.grad(loss, params_except_fc, retain_graph=False)\n",
    "    # grad = torch.autograd.grad(loss, inference_model.parameters(), retain_graph=False)\n",
    "    grad_vector = torch.cat([g.view(-1) for g in grad])  # Flatten and concatenate\n",
    "\n",
    "    # Detach and store\n",
    "    features.append(grad_vector.detach().cpu().float())\n",
    "    labels.append(multi_hot_encode(y, num_classes))\n",
    "\n",
    "features = torch.stack(features)\n",
    "labels = torch.stack(labels).float()\n",
    "\n",
    "dataset = TensorDataset(features, labels)\n",
    "input_dim = features.shape[1]\n",
    "output_dim = labels.shape[1]"
   ]
  },
  {
   "cell_type": "markdown",
   "id": "16963933",
   "metadata": {},
   "source": [
    "## Part 2. Train gradient classifier on gradient dataset"
   ]
  },
  {
   "cell_type": "code",
   "execution_count": 69,
   "id": "f3cba6f6",
   "metadata": {},
   "outputs": [
    {
     "name": "stdout",
     "output_type": "stream",
     "text": [
      "116 51\n"
     ]
    }
   ],
   "source": [
    "# dataset split\n",
    "tmp_train = int(train_size*inference_dataset_size/batch_size_pretrained_model)\n",
    "tmp_test = int(inference_dataset_size/batch_size_pretrained_model-tmp_train)\n",
    "print(tmp_train, tmp_test)\n",
    "\n",
    "train_dataset, test_dataset = random_split(dataset, [tmp_train, tmp_test])\n",
    "\n",
    "train_loader = DataLoader(train_dataset, batch_size=batch_size_gradient_classifier, shuffle=True)\n",
    "test_loader = DataLoader(test_dataset, batch_size=batch_size_gradient_classifier)"
   ]
  },
  {
   "cell_type": "code",
   "execution_count": 70,
   "id": "46c4bf3f",
   "metadata": {},
   "outputs": [],
   "source": [
    "def prob_to_prediction(inferred, num_preds):\n",
    "    inferred_copy = inferred.clone()\n",
    "    predictions = []\n",
    "\n",
    "    for i in range(num_preds):\n",
    "        temp_max = torch.argmax(inferred_copy)\n",
    "        predictions.append(int(temp_max))\n",
    "        inferred_copy[temp_max] = -inferred_copy[temp_max]\n",
    "    predictions.sort()\n",
    "    return predictions\n",
    "\n",
    "def preds_to_multihot(preds):\n",
    "    predictions_1hot = [0 for _ in range(10)]\n",
    "\n",
    "    for i in preds:\n",
    "        predictions_1hot[i] = 1\n",
    "    \n",
    "    return predictions_1hot\n",
    "\n",
    "def preds_from_multihot(hot_preds):\n",
    "    predictions = []\n",
    "\n",
    "    for i in range(len(hot_preds)):\n",
    "        if hot_preds[i] != 0:\n",
    "            predictions.append(i) \n",
    "    \n",
    "    return predictions\n",
    "\n",
    "def compare_multihot(multi_1, multi_2):\n",
    "    # print(multi_1, multi_2)\n",
    "    cnt = 0\n",
    "    for i in range(len(multi_1)):\n",
    "        if multi_1[i] == multi_2[i]:\n",
    "            cnt += 1\n",
    "    return cnt / len(multi_1)\n",
    "\n",
    "def outputs_to_label(out, size):\n",
    "    res = []\n",
    "    for i in out:\n",
    "        i_pred = prob_to_prediction(i,size)\n",
    "        # i_pred_multihot = preds_to_multihot(i_pred)\n",
    "        # res.append(i_pred_multihot)\n",
    "        res.append(i_pred)\n",
    "    # res.sort()\n",
    "    return res\n",
    "\n",
    "def normalize(batch):\n",
    "    for j in range(len(batch)):\n",
    "        den = sum(batch[j])\n",
    "        for i in range(len(batch[j])):\n",
    "            batch[j][i] = batch[j][i]/den\n",
    "    return batch\n",
    "\n",
    "def evaluate_model_2(model, test_loader, criterion, device='cuda'):\n",
    "    model.eval()\n",
    "    model.to(device)\n",
    "\n",
    "    correct = 0\n",
    "    total = 0\n",
    "    total_loss = 0.0\n",
    "    all_preds = []\n",
    "    all_labels = []\n",
    "    cosine_sims = []\n",
    "\n",
    "    with torch.no_grad():\n",
    "        for x_batch, y_batch in test_loader:\n",
    "            x_batch = x_batch.to(device)\n",
    "            y_batch = y_batch.to(device)\n",
    "\n",
    "            # normalize y_batch\n",
    "            y_batch = normalize(y_batch)\n",
    "\n",
    "            outputs = model(x_batch)  # sigmoid output\n",
    "            loss = criterion(outputs, y_batch)\n",
    "            total_loss += loss.item() * x_batch.size(0)\n",
    "\n",
    "            preds = outputs.cpu().numpy()\n",
    "            labels = y_batch.cpu().numpy()\n",
    "\n",
    "            all_preds.append(preds)\n",
    "            all_labels.append(labels)\n",
    "\n",
    "            # Compute cosine similarity per sample\n",
    "            for p, l in zip(preds, labels):\n",
    "                # Avoid division by zero\n",
    "                if norm(p) == 0 or norm(l) == 0:\n",
    "                    cosine_sims.append(0.0)\n",
    "                else:\n",
    "                    cos_sim = np.dot(p, l) / (norm(p) * norm(l))\n",
    "                    cosine_sims.append(cos_sim)\n",
    "            \n",
    "            # Accuracy\n",
    "            outputs_labels = outputs_to_label(outputs, batch_size_pretrained_model)\n",
    "            y_batch_labels = outputs_to_label(y_batch, batch_size_pretrained_model)\n",
    "            for i in range(len(y_batch)):\n",
    "                correct += compare_multihot(y_batch_labels[i],outputs_labels[i])\n",
    "\n",
    "            total += y_batch.size(0)\n",
    "\n",
    "    avg_loss = total_loss / len(test_loader.dataset)\n",
    "    all_preds = np.vstack(all_preds)\n",
    "    all_labels = np.vstack(all_labels)\n",
    "    avg_cosine_similarity = np.mean(cosine_sims)\n",
    "    accuracy = 0\n",
    "    accuracy = correct / total\n",
    "\n",
    "    print(f\"Test Loss: {avg_loss:.4f} | Cosine Similarity: {avg_cosine_similarity:.4f}, Test Accuracy: {accuracy:.4f}\")\n",
    "\n",
    "    return all_preds, accuracy, avg_loss\n",
    "\n",
    "\n",
    "def train_grad_classifier_test(model, train_loader, test_loader, criterion, num_epochs=10, lr=1e-3, device='cuda'):\n",
    "    model = model.to(device)\n",
    "    optimizer = torch.optim.Adam(model.parameters(), lr=lr)\n",
    "\n",
    "    history_training_accuracy = []\n",
    "    history_test_accuracy = []\n",
    "    history_training_loss = []\n",
    "    history_test_loss = []\n",
    "\n",
    "    for epoch in range(num_epochs):\n",
    "        model.train()\n",
    "        running_loss = 0.0\n",
    "        correct = 0\n",
    "        total = 0\n",
    "\n",
    "        for x_batch, y_batch in train_loader:\n",
    "            x_batch = x_batch.to(device)\n",
    "            y_batch = y_batch.to(device)\n",
    "\n",
    "            optimizer.zero_grad()\n",
    "            outputs = model(x_batch)  # raw logits\n",
    "\n",
    "            # culo softmax on y_batch\n",
    "            y_batch = normalize(y_batch)\n",
    "\n",
    "            loss = criterion(outputs, y_batch)\n",
    "            loss.backward()\n",
    "            optimizer.step()\n",
    "\n",
    "            running_loss += loss.item() * x_batch.size(0)\n",
    "\n",
    "            # Accuracy\n",
    "            outputs_labels = outputs_to_label(outputs, batch_size_pretrained_model)\n",
    "            y_batch_labels = outputs_to_label(y_batch, batch_size_pretrained_model)\n",
    "            for i in range(len(y_batch)):\n",
    "                correct += compare_multihot(y_batch_labels[i],outputs_labels[i])\n",
    "\n",
    "            total += y_batch.size(0)\n",
    "\n",
    "        avg_loss = running_loss / total\n",
    "        accuracy = 0\n",
    "        accuracy = correct / total\n",
    "\n",
    "        print(f\"Epoch {epoch+1}/{num_epochs} | Loss: {avg_loss:.4f} | Accuracy: {accuracy:.2f}%\")\n",
    "\n",
    "        _, test_accuracy, test_loss = evaluate_model_2(model, test_loader, criterion, device)\n",
    "\n",
    "        history_training_accuracy.append(accuracy)\n",
    "        history_test_accuracy.append(test_accuracy)\n",
    "        history_training_loss.append(avg_loss)\n",
    "        history_test_loss.append(test_loss)\n",
    "    \n",
    "    return history_training_accuracy, history_test_accuracy, history_training_loss, history_test_loss"
   ]
  },
  {
   "cell_type": "code",
   "execution_count": 71,
   "id": "8b7aa251",
   "metadata": {},
   "outputs": [],
   "source": [
    "def pv_to_label(pv_label):\n",
    "    label = []\n",
    "    for i in range(len(mh_label)):\n",
    "        if mh_label[i] == 1:\n",
    "            pass\n",
    "        \n",
    "def mh_norm(mh_label):\n",
    "    den = sum(mh_label)\n",
    "    ret = []\n",
    "    for i in range(len(mh_label)):\n",
    "        ret.append(mh_label[i] / den)\n",
    "    return ret"
   ]
  },
  {
   "cell_type": "code",
   "execution_count": 72,
   "id": "75f70414",
   "metadata": {},
   "outputs": [
    {
     "name": "stdout",
     "output_type": "stream",
     "text": [
      "[0.3333333333333333, 0.0, 0.0, 0.0, 0.3333333333333333, 0.0, 0.0, 0.3333333333333333, 0.0, 0.0]\n"
     ]
    }
   ],
   "source": [
    "y = [1, 0, 0, 0, 1, 0, 0, 1, 0, 0]\n",
    "# y_l = mh_to_label(y)\n",
    "y_norm = mh_norm(y)\n",
    "\n",
    "print(y_norm)\n"
   ]
  },
  {
   "cell_type": "code",
   "execution_count": 73,
   "id": "9834dc7a",
   "metadata": {},
   "outputs": [
    {
     "name": "stdout",
     "output_type": "stream",
     "text": [
      "Epoch 1/15 | Loss: 1.3059 | Accuracy: 0.27%\n",
      "Test Loss: 1.3117 | Cosine Similarity: 0.5378, Test Accuracy: 0.3791\n",
      "Epoch 2/15 | Loss: 1.2998 | Accuracy: 0.47%\n",
      "Test Loss: 1.3039 | Cosine Similarity: 0.5745, Test Accuracy: 0.4444\n",
      "Epoch 3/15 | Loss: 1.2822 | Accuracy: 0.45%\n",
      "Test Loss: 1.2821 | Cosine Similarity: 0.6478, Test Accuracy: 0.3333\n",
      "Epoch 4/15 | Loss: 1.2355 | Accuracy: 0.42%\n",
      "Test Loss: 1.2316 | Cosine Similarity: 0.6707, Test Accuracy: 0.3072\n",
      "Epoch 5/15 | Loss: 1.1742 | Accuracy: 0.40%\n",
      "Test Loss: 1.1804 | Cosine Similarity: 0.6588, Test Accuracy: 0.3072\n",
      "Epoch 6/15 | Loss: 1.1295 | Accuracy: 0.41%\n",
      "Test Loss: 1.1441 | Cosine Similarity: 0.6654, Test Accuracy: 0.3856\n",
      "Epoch 7/15 | Loss: 1.1012 | Accuracy: 0.42%\n",
      "Test Loss: 1.1216 | Cosine Similarity: 0.6684, Test Accuracy: 0.4314\n",
      "Epoch 8/15 | Loss: 1.0874 | Accuracy: 0.50%\n",
      "Test Loss: 1.1051 | Cosine Similarity: 0.6838, Test Accuracy: 0.4706\n",
      "Epoch 9/15 | Loss: 1.0809 | Accuracy: 0.51%\n",
      "Test Loss: 1.0975 | Cosine Similarity: 0.6864, Test Accuracy: 0.5033\n",
      "Epoch 10/15 | Loss: 1.0780 | Accuracy: 0.55%\n",
      "Test Loss: 1.0930 | Cosine Similarity: 0.6977, Test Accuracy: 0.5490\n",
      "Epoch 11/15 | Loss: 1.0757 | Accuracy: 0.55%\n",
      "Test Loss: 1.0905 | Cosine Similarity: 0.6990, Test Accuracy: 0.5817\n",
      "Epoch 12/15 | Loss: 1.0732 | Accuracy: 0.56%\n",
      "Test Loss: 1.0881 | Cosine Similarity: 0.7084, Test Accuracy: 0.5948\n",
      "Epoch 13/15 | Loss: 1.0708 | Accuracy: 0.57%\n",
      "Test Loss: 1.0878 | Cosine Similarity: 0.7129, Test Accuracy: 0.5882\n",
      "Epoch 14/15 | Loss: 1.0693 | Accuracy: 0.59%\n",
      "Test Loss: 1.0855 | Cosine Similarity: 0.7220, Test Accuracy: 0.6144\n",
      "Epoch 15/15 | Loss: 1.0679 | Accuracy: 0.58%\n",
      "Test Loss: 1.0854 | Cosine Similarity: 0.7213, Test Accuracy: 0.6209\n"
     ]
    }
   ],
   "source": [
    "# Model training\n",
    "grad_classifier_model = GradientClassifier(input_dim=input_dim, output_dim=output_dim)\n",
    "grad_classifier_model.to(device)\n",
    "\n",
    "hist_train_acc, hist_test_acc, hist_train_loss, hist_test_loss = train_grad_classifier_test(grad_classifier_model, train_loader, test_loader, criterion_grad_classifier, num_epochs=num_epochs, lr=learning_rate_gradient_classifier, device=device)"
   ]
  },
  {
   "cell_type": "code",
   "execution_count": 74,
   "id": "a54938ce",
   "metadata": {},
   "outputs": [
    {
     "data": {
      "image/png": "[encoded data removed]",
      "text/plain": [
       "<Figure size 1000x400 with 2 Axes>"
      ]
     },
     "metadata": {},
     "output_type": "display_data"
    }
   ],
   "source": [
    "epcs = range(1, num_epochs + 1)\n",
    "\n",
    "# Plot accuracy\n",
    "plt.figure(figsize=(10, 4))\n",
    "plt.subplot(1, 2, 2)\n",
    "plt.plot(epcs, hist_train_acc, 'b-', label='Train Accuracy')\n",
    "plt.plot(epcs, hist_test_acc, 'r-', label='Test Accuracy')\n",
    "plt.title('Model Accuracy')\n",
    "plt.xlabel('Epoch')\n",
    "plt.ylabel('Accuracy')\n",
    "plt.legend()\n",
    "plt.grid(True)\n",
    "\n",
    "# Plot loss\n",
    "plt.subplot(1, 2, 1)\n",
    "plt.plot(epcs, hist_train_loss, 'b-', label='Train Loss')\n",
    "plt.plot(epcs, hist_test_loss, 'r-', label='Test Loss')\n",
    "plt.title('Model Loss')\n",
    "plt.xlabel('Epoch')\n",
    "plt.ylabel('Loss')\n",
    "plt.legend()\n",
    "plt.grid(True)\n",
    "\n",
    "plt.tight_layout()\n",
    "plt.show()"
   ]
  },
  {
   "cell_type": "code",
   "execution_count": 75,
   "id": "a04aafa8",
   "metadata": {},
   "outputs": [],
   "source": [
    "# Model evaluation\n",
    "# test_preds, acc, avg_loss = evaluate_model_2(grad_classifier_model, test_loader, criterion_grad_classifier, device)"
   ]
  },
  {
   "cell_type": "markdown",
   "id": "3449ad44",
   "metadata": {},
   "source": [
    "## Part 3. Make inference on estimated gradient update"
   ]
  },
  {
   "cell_type": "code",
   "execution_count": 76,
   "id": "ce90cee7",
   "metadata": {},
   "outputs": [],
   "source": [
    "# load true gradient update\n",
    "true_grad = torch.load('DEBUG_true_grads.pth')\n",
    "# remove fc layer\n",
    "true_grad = remove_layers(true_grad, ['fc.weight', 'fc.bias'])"
   ]
  },
  {
   "cell_type": "code",
   "execution_count": 77,
   "id": "25f49879",
   "metadata": {},
   "outputs": [
    {
     "name": "stdout",
     "output_type": "stream",
     "text": [
      "cosine similarity between estimated gradient and true gradient: 1.0000\n",
      "mse between estimated gradient and true gradient: 0.0000\n"
     ]
    }
   ],
   "source": [
    "# Estimate gradient update\n",
    "theta_0 = torch.load(pretrained_model_path)\n",
    "theta_1 = torch.load(target_model_path)\n",
    "# remove fc layer\n",
    "theta_0 = remove_layers(theta_0, ['fc.weight', 'fc.bias'])\n",
    "theta_1 = remove_layers(theta_1, ['fc.weight', 'fc.bias'])\n",
    "# \n",
    "theta_1 = state_dict_scale(theta_1, num_clients_fl)\n",
    "est_grad = estimate_gradient(theta_0, theta_1, learning_rate_pretrained_model)\n",
    "\n",
    "cs = state_dicts_average_cosine_similarity(est_grad, true_grad)\n",
    "mse = state_dicts_mse(est_grad, true_grad)\n",
    "print(f'cosine similarity between estimated gradient and true gradient: {cs:.4f}')\n",
    "print(f'mse between estimated gradient and true gradient: {mse:.4f}')"
   ]
  },
  {
   "cell_type": "code",
   "execution_count": 78,
   "id": "4ecdfbac",
   "metadata": {},
   "outputs": [
    {
     "name": "stdout",
     "output_type": "stream",
     "text": [
      "[0.013757231645286083, 0.0071983374655246735, 0.002373886527493596, 0.006384261883795261, 0.03837749734520912, 0.009539421647787094, 0.00020373534061945975, 0.008918266743421555, 0.6280151605606079, 0.28523215651512146]\n"
     ]
    },
    {
     "data": {
      "image/png": "[encoded data removed]",
      "text/plain": [
       "<Figure size 640x480 with 1 Axes>"
      ]
     },
     "metadata": {},
     "output_type": "display_data"
    }
   ],
   "source": [
    "# Inference\n",
    "est_grad_vector = torch.cat([est_grad[key].view(-1) for key in est_grad.keys()]).unsqueeze(0)\n",
    "inferred = grad_classifier_model(est_grad_vector)\n",
    "inferred = inferred.tolist()[0]\n",
    "print(inferred)\n",
    "\n",
    "plt.bar(range(num_classes), inferred)\n",
    "plt.show()"
   ]
  },
  {
   "cell_type": "code",
   "execution_count": 79,
   "id": "5938b591",
   "metadata": {},
   "outputs": [
    {
     "name": "stdout",
     "output_type": "stream",
     "text": [
      "[0.013757231645286083, 0.0071983374655246735, 0.002373886527493596, 0.006384261883795261, 0.03837749734520912, 0.009539421647787094, 0.00020373534061945975, 0.008918266743421555, 0.6280151605606079, 0.28523215651512146]\n",
      "[8, 9, 4]\n",
      "[0, 0, 0, 0, 1, 0, 0, 0, 1, 1]\n",
      "[4, 8, 9]\n"
     ]
    }
   ],
   "source": [
    "print(inferred)\n",
    "\n",
    "# from probability to prediction\n",
    "inferred_copy = inferred.copy()\n",
    "predictions = []\n",
    "\n",
    "for i in range(batch_size_pretrained_model):\n",
    "    temp_max = argmax(inferred_copy)\n",
    "    predictions.append(int(temp_max))\n",
    "    inferred_copy[temp_max] = -inferred_copy[temp_max]\n",
    "\n",
    "print(predictions)\n",
    "\n",
    "# from prediction to 1_hot\n",
    "predictions_1hot = [0 for _ in range(10)]\n",
    "\n",
    "for i in predictions:\n",
    "    predictions_1hot[i] = 1\n",
    "\n",
    "print(predictions_1hot)\n",
    "\n",
    "# from 1_hot to prediction\n",
    "prediction_2 = []\n",
    "\n",
    "for i in range(len(predictions_1hot)):\n",
    "    if predictions_1hot[i] != 0:\n",
    "        prediction_2.append(i)\n",
    "\n",
    "print(prediction_2)"
   ]
  }
 ],
 "metadata": {
  "kernelspec": {
   "display_name": ".venv",
   "language": "python",
   "name": "python3"
  },
  "language_info": {
   "codemirror_mode": {
    "name": "ipython",
    "version": 3
   },
   "file_extension": ".py",
   "mimetype": "text/x-python",
   "name": "python",
   "nbconvert_exporter": "python",
   "pygments_lexer": "ipython3",
   "version": "3.13.5"
  }
 },
 "nbformat": 4,
 "nbformat_minor": 5
}
