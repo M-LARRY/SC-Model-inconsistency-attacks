{
 "cells": [
  {
   "cell_type": "code",
   "execution_count": 61,
   "id": "d75a9995",
   "metadata": {},
   "outputs": [],
   "source": [
    "import os\n",
    "import torch\n",
    "import numpy as np\n",
    "import matplotlib.pyplot as plt\n",
    "import math\n",
    "import random\n",
    "from torchvision import datasets, transforms\n",
    "from torch.utils.data import DataLoader, Subset\n",
    "from federated_learning import *"
   ]
  },
  {
   "cell_type": "code",
   "execution_count": 62,
   "id": "a673bd6a",
   "metadata": {},
   "outputs": [
    {
     "name": "stdout",
     "output_type": "stream",
     "text": [
      "Using device: cpu\n"
     ]
    }
   ],
   "source": [
    "# Configuration\n",
    "num_clients = 5\n",
    "num_classes = 10\n",
    "input_shape = (1, 28, 28)  # MNIST grayscale images\n",
    "private_dataset_size = 5\n",
    "batch_size = 1\n",
    "rounds = 25\n",
    "epochs = 3\n",
    "device = torch.device(\"cuda\" if torch.cuda.is_available() else \"cpu\")\n",
    "model = 2\n",
    "\n",
    "print(f\"Using device: {device}\")"
   ]
  },
  {
   "cell_type": "code",
   "execution_count": null,
   "id": "c3326c59",
   "metadata": {},
   "outputs": [
    {
     "name": "stdout",
     "output_type": "stream",
     "text": [
      "client 0\n",
      "tensor([6])\n",
      "tensor([1])\n",
      "tensor([7])\n",
      "tensor([4])\n",
      "tensor([5])\n",
      "client 1\n",
      "tensor([0])\n",
      "tensor([8])\n",
      "tensor([1])\n",
      "tensor([2])\n",
      "tensor([7])\n",
      "client 2\n",
      "tensor([6])\n",
      "tensor([0])\n",
      "tensor([4])\n",
      "tensor([7])\n",
      "tensor([7])\n",
      "client 3\n",
      "tensor([4])\n",
      "tensor([6])\n",
      "tensor([8])\n",
      "tensor([6])\n",
      "tensor([1])\n",
      "client 4\n",
      "tensor([5])\n",
      "tensor([4])\n",
      "tensor([9])\n",
      "tensor([5])\n",
      "tensor([2])\n",
      "Prepared 5 client dataloaders\n"
     ]
    }
   ],
   "source": [
    "# Download and transform MNIST dataset\n",
    "transform = transforms.Compose([\n",
    "    transforms.ToTensor(),\n",
    "    transforms.Normalize((0.1307,), (0.3081,)) # normalization params for MNIST\n",
    "])\n",
    "\n",
    "mnist_train = datasets.MNIST(root='./data', train=True, download=True, transform=transform)\n",
    "mnist_test = datasets.MNIST(root='./data', train=False, download=True, transform=transform)\n",
    "\n",
    "# Split dataset indices for clients\n",
    "dataset_size = len(mnist_train)\n",
    "indices = list(range(dataset_size))\n",
    "split_size = dataset_size // num_clients\n",
    "split_size = 15\n",
    "\n",
    "clients_dataloaders = []\n",
    "# for i in range(num_clients):\n",
    "#     start = i * split_size\n",
    "#     end = start + split_size if i < num_clients - 1 else dataset_size\n",
    "#     client_indices = indices[start:end]\n",
    "#     client_subset = Subset(mnist_train, client_indices)\n",
    "#     dataloader = DataLoader(client_subset, batch_size=batch_size, shuffle=True)\n",
    "#     clients_dataloaders.append(dataloader)\n",
    "\n",
    "for i in range(num_clients):\n",
    "    client_indices = random.sample(range(len(mnist_train)), private_dataset_size)\n",
    "    client_subset = Subset(mnist_train, client_indices)\n",
    "    dataloader = DataLoader(client_subset, batch_size=batch_size, shuffle=True)\n",
    "    clients_dataloaders.append(dataloader)\n",
    "\n",
    "\n",
    "# for i in range(len(clients_dataloaders)):\n",
    "#     print(\"client\", i)\n",
    "#     loader = clients_dataloaders[i]\n",
    "#     for x, y in loader:\n",
    "#         print(y)\n",
    "\n",
    "print(f\"Prepared {num_clients} client dataloaders\")\n",
    "\n",
    "test_loader = DataLoader(dataset=mnist_test, batch_size=64, shuffle=False)"
   ]
  },
  {
   "cell_type": "code",
   "execution_count": 64,
   "id": "142a2e25",
   "metadata": {},
   "outputs": [
    {
     "name": "stdout",
     "output_type": "stream",
     "text": [
      "Round 1\n",
      "Round 2\n",
      "Round 3\n",
      "Round 4\n",
      "Round 5\n",
      "Round 6\n",
      "Round 7\n",
      "Round 8\n",
      "Round 9\n",
      "Round 10\n",
      "Round 11\n",
      "Round 12\n",
      "Round 13\n",
      "Round 14\n",
      "Round 15\n",
      "Round 16\n",
      "Round 17\n",
      "Round 18\n",
      "Round 19\n",
      "Round 20\n",
      "Round 21\n",
      "Round 22\n",
      "Round 23\n",
      "Round 24\n",
      "Round 25\n",
      "Federated learning simulation complete!\n"
     ]
    }
   ],
   "source": [
    "global_model, _ = federated_learning(\n",
    "    clients_dataloaders=clients_dataloaders,\n",
    "    input_shape=input_shape,\n",
    "    num_classes=num_classes,\n",
    "    model=model,\n",
    "    rounds=rounds,\n",
    "    epochs=epochs,\n",
    "    device=device\n",
    ")\n",
    "\n",
    "print(\"Federated learning simulation complete!\")"
   ]
  },
  {
   "cell_type": "code",
   "execution_count": 65,
   "id": "0b5f8a50",
   "metadata": {},
   "outputs": [
    {
     "name": "stdout",
     "output_type": "stream",
     "text": [
      "Test Accuracy: 40.55%\n"
     ]
    }
   ],
   "source": [
    "global_model.eval()\n",
    "correct = 0\n",
    "total = 0\n",
    "\n",
    "with torch.no_grad():\n",
    "    for images, labels in test_loader:\n",
    "        images, labels = images.to(device), labels.to(device)\n",
    "        outputs = global_model(images)\n",
    "        _, predicted = torch.max(outputs.data, 1)\n",
    "        total += labels.size(0)\n",
    "        correct += (predicted == labels).sum().item()\n",
    "\n",
    "accuracy = 100 * correct / total\n",
    "print(f\"Test Accuracy: {accuracy:.2f}%\")"
   ]
  },
  {
   "cell_type": "code",
   "execution_count": 66,
   "id": "594116f0",
   "metadata": {},
   "outputs": [],
   "source": [
    "# save trained model to file\n",
    "torch.save(global_model.state_dict(), 'trained_model_MNIST.pth')"
   ]
  }
 ],
 "metadata": {
  "kernelspec": {
   "display_name": ".venv",
   "language": "python",
   "name": "python3"
  },
  "language_info": {
   "codemirror_mode": {
    "name": "ipython",
    "version": 3
   },
   "file_extension": ".py",
   "mimetype": "text/x-python",
   "name": "python",
   "nbconvert_exporter": "python",
   "pygments_lexer": "ipython3",
   "version": "3.13.3"
  }
 },
 "nbformat": 4,
 "nbformat_minor": 5
}
