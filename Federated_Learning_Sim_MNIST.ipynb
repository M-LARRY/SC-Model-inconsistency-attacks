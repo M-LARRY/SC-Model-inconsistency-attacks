{
 "cells": [
  {
   "cell_type": "code",
   "execution_count": 90,
   "id": "d75a9995",
   "metadata": {},
   "outputs": [],
   "source": [
    "import os\n",
    "import torch\n",
    "import numpy as np\n",
    "import matplotlib.pyplot as plt\n",
    "import math\n",
    "import random\n",
    "from torchvision import datasets, transforms\n",
    "from torch.utils.data import DataLoader, Subset\n",
    "from federated_learning import *"
   ]
  },
  {
   "cell_type": "code",
   "execution_count": 91,
   "id": "a673bd6a",
   "metadata": {},
   "outputs": [
    {
     "name": "stdout",
     "output_type": "stream",
     "text": [
      "Using device: cpu\n"
     ]
    }
   ],
   "source": [
    "# Configuration\n",
    "model = 1\n",
    "device = torch.device(\"cuda\" if torch.cuda.is_available() else \"cpu\")\n",
    "rng_seed = 0\n",
    "\n",
    "# Clients\n",
    "num_clients = 10\n",
    "private_dataset_size = 20\n",
    "\n",
    "# Dataset\n",
    "num_classes = 10\n",
    "input_shape = (1, 28, 28)  # MNIST grayscale images\n",
    "\n",
    "# Traing params\n",
    "learning_rate = 0.01\n",
    "loss_fn = torch.nn.CrossEntropyLoss()\n",
    "batch_size = 1\n",
    "rounds = 10\n",
    "epochs = 5\n",
    "\n",
    "print(f\"Using device: {device}\")"
   ]
  },
  {
   "cell_type": "code",
   "execution_count": 92,
   "id": "294292c0",
   "metadata": {},
   "outputs": [],
   "source": [
    "# Make reproducible\n",
    "random.seed(rng_seed)\n",
    "torch.manual_seed(rng_seed)\n",
    "np.random.seed(rng_seed)"
   ]
  },
  {
   "cell_type": "code",
   "execution_count": 93,
   "id": "c3326c59",
   "metadata": {},
   "outputs": [
    {
     "name": "stdout",
     "output_type": "stream",
     "text": [
      "Prepared 10 client dataloaders\n",
      "Private dataset 0: [9, 0, 7, 0, 1, 3, 9, 9, 6, 8, 7, 8, 6, 3, 2, 5, 6, 8, 4, 4]. Missing: []\n",
      "Private dataset 1: [0, 5, 7, 9, 2, 4, 2, 7, 5, 1, 5, 1, 8, 0, 1, 9, 2, 8, 8, 8]. Missing: [3, 6]\n",
      "Private dataset 2: [2, 9, 2, 3, 9, 9, 5, 8, 9, 9, 8, 9, 9, 9, 6, 5, 1, 4, 2, 7]. Missing: [0]\n",
      "Private dataset 3: [9, 1, 4, 0, 3, 7, 5, 9, 5, 7, 1, 0, 1, 8, 9, 1, 7, 0, 6, 2]. Missing: []\n",
      "Private dataset 4: [6, 8, 0, 3, 1, 9, 0, 1, 2, 1, 0, 5, 8, 4, 2, 0, 3, 9, 4, 8]. Missing: [7]\n",
      "Private dataset 5: [4, 7, 4, 4, 9, 4, 9, 2, 8, 0, 2, 8, 4, 3, 3, 8, 2, 7, 9, 2]. Missing: [1, 5, 6]\n",
      "Private dataset 6: [0, 8, 1, 0, 3, 2, 3, 5, 9, 5, 9, 1, 5, 1, 9, 4, 0, 6, 4, 0]. Missing: [7]\n",
      "Private dataset 7: [2, 3, 7, 6, 9, 4, 0, 8, 5, 1, 4, 9, 8, 8, 0, 5, 8, 9, 9, 3]. Missing: []\n",
      "Private dataset 8: [3, 7, 1, 9, 4, 3, 1, 6, 6, 0, 2, 5, 2, 6, 4, 7, 2, 3, 6, 3]. Missing: [8]\n",
      "Private dataset 9: [5, 5, 0, 6, 5, 2, 3, 9, 2, 4, 1, 0, 9, 1, 8, 4, 7, 7, 7, 5]. Missing: []\n"
     ]
    }
   ],
   "source": [
    "# Download and transform MNIST dataset\n",
    "transform = transforms.Compose([\n",
    "    transforms.ToTensor(),\n",
    "    transforms.Normalize((0.1307,), (0.3081,)) # normalization params for MNIST\n",
    "])\n",
    "\n",
    "mnist_train = datasets.MNIST(root='./data', train=True, download=True, transform=transform)\n",
    "mnist_test = datasets.MNIST(root='./data', train=False, download=True, transform=transform)\n",
    "\n",
    "clients_dataloaders = []\n",
    "for i in range(num_clients):\n",
    "    client_indices = random.sample(range(len(mnist_train)), private_dataset_size)\n",
    "    client_subset = Subset(mnist_train, client_indices)\n",
    "    dataloader = DataLoader(client_subset, batch_size=batch_size, shuffle=True)\n",
    "    clients_dataloaders.append(dataloader)\n",
    "\n",
    "print(f\"Prepared {num_clients} client dataloaders\")\n",
    "\n",
    "# inspect private datasets\n",
    "for idx in range(len(clients_dataloaders)):\n",
    "    data = []\n",
    "    for dp, y in clients_dataloaders[idx]:\n",
    "        # print(y.tolist())\n",
    "        data.extend(y.tolist())\n",
    "    print('Private dataset ', idx, ': ', data, '. Missing: ', [x for x in range(10) if x not in data], sep='')\n",
    "\n",
    "test_loader = DataLoader(dataset=mnist_test, batch_size=batch_size, shuffle=False)"
   ]
  },
  {
   "cell_type": "code",
   "execution_count": 94,
   "id": "142a2e25",
   "metadata": {},
   "outputs": [
    {
     "name": "stdout",
     "output_type": "stream",
     "text": [
      "Round 1\n",
      "Round 2\n",
      "Round 3\n",
      "Round 4\n",
      "Round 5\n",
      "Round 6\n",
      "Round 7\n",
      "Round 8\n",
      "Round 9\n",
      "Round 10\n",
      "Federated learning simulation complete!\n"
     ]
    }
   ],
   "source": [
    "# Model training\n",
    "global_model, _ = federated_learning(\n",
    "    clients_dataloaders=clients_dataloaders,\n",
    "    input_shape=input_shape,\n",
    "    num_classes=num_classes,\n",
    "    lr=learning_rate,\n",
    "    criterion=loss_fn,\n",
    "    model=model,\n",
    "    rounds=rounds,\n",
    "    epochs=epochs,\n",
    "    device=device\n",
    ")\n",
    "\n",
    "print(\"Federated learning simulation complete!\")"
   ]
  },
  {
   "cell_type": "code",
   "execution_count": 95,
   "id": "0b5f8a50",
   "metadata": {},
   "outputs": [
    {
     "name": "stdout",
     "output_type": "stream",
     "text": [
      "Test Accuracy: 69.41%\n"
     ]
    }
   ],
   "source": [
    "# Model evaluation\n",
    "global_model.eval()\n",
    "correct = 0\n",
    "total = 0\n",
    "\n",
    "with torch.no_grad():\n",
    "    for images, labels in test_loader:\n",
    "        images, labels = images.to(device), labels.to(device)\n",
    "        outputs = global_model(images)\n",
    "        _, predicted = torch.max(outputs.data, 1)\n",
    "        total += labels.size(0)\n",
    "        correct += (predicted == labels).sum().item()\n",
    "\n",
    "accuracy = 100 * correct / total\n",
    "print(f\"Test Accuracy: {accuracy:.2f}%\")"
   ]
  },
  {
   "cell_type": "code",
   "execution_count": 96,
   "id": "594116f0",
   "metadata": {},
   "outputs": [],
   "source": [
    "# Save trained model to file\n",
    "torch.save(global_model.state_dict(), 'trained_model_MNIST.pth')"
   ]
  }
 ],
 "metadata": {
  "kernelspec": {
   "display_name": ".venv",
   "language": "python",
   "name": "python3"
  },
  "language_info": {
   "codemirror_mode": {
    "name": "ipython",
    "version": 3
   },
   "file_extension": ".py",
   "mimetype": "text/x-python",
   "name": "python",
   "nbconvert_exporter": "python",
   "pygments_lexer": "ipython3",
   "version": "3.13.3"
  }
 },
 "nbformat": 4,
 "nbformat_minor": 5
}
