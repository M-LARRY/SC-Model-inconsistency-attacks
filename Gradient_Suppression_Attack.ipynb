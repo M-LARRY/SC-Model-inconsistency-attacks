{
 "cells": [
  {
   "cell_type": "code",
   "execution_count": 1,
   "id": "9e01fba2",
   "metadata": {},
   "outputs": [],
   "source": [
    "import os\n",
    "import torch\n",
    "import numpy as np\n",
    "import matplotlib.pyplot as plt\n",
    "import math\n",
    "from torchvision import datasets, transforms\n",
    "from torch.utils.data import DataLoader, Subset\n",
    "from model import Model\n",
    "from federated_learning import *\n",
    "from gradient_suppression import *"
   ]
  },
  {
   "cell_type": "code",
   "execution_count": 2,
   "id": "bb9d544d",
   "metadata": {},
   "outputs": [
    {
     "name": "stdout",
     "output_type": "stream",
     "text": [
      "Using device: cpu\n"
     ]
    }
   ],
   "source": [
    "# Configuration\n",
    "input_model = 'trained_model.pth'\n",
    "num_clients = 5\n",
    "num_classes = 10\n",
    "input_shape = (1, 28, 28)  # MNIST grayscale images\n",
    "batch_size = 32\n",
    "epochs = 3\n",
    "target = 0\n",
    "device = torch.device(\"cuda\" if torch.cuda.is_available() else \"cpu\")\n",
    "\n",
    "print(f\"Using device: {device}\")"
   ]
  },
  {
   "cell_type": "code",
   "execution_count": 3,
   "id": "158c6da4",
   "metadata": {},
   "outputs": [],
   "source": [
    "if input_model != None:\n",
    "    trained_model_state_dict = torch.load(input_model)\n",
    "else:\n",
    "    trained_model_state_dict = None"
   ]
  },
  {
   "cell_type": "code",
   "execution_count": 4,
   "id": "426a1b1e",
   "metadata": {},
   "outputs": [
    {
     "name": "stdout",
     "output_type": "stream",
     "text": [
      "Prepared 5 client dataloaders\n"
     ]
    }
   ],
   "source": [
    "# Download and transform MNIST dataset\n",
    "transform = transforms.Compose([\n",
    "    transforms.ToTensor(),\n",
    "    transforms.Normalize((0.1307,), (0.3081,)) # normalization params for MNIST\n",
    "])\n",
    "\n",
    "mnist_train = datasets.MNIST(root='./data', train=True, download=True, transform=transform)\n",
    "mnist_test = datasets.MNIST(root='./data', train=False, download=True, transform=transform)\n",
    "\n",
    "# Split dataset indices for clients\n",
    "dataset_size = len(mnist_train)\n",
    "indices = list(range(dataset_size))\n",
    "split_size = dataset_size // num_clients\n",
    "\n",
    "clients_dataloaders = []\n",
    "for i in range(num_clients):\n",
    "    start = i * split_size\n",
    "    end = start + split_size if i < num_clients - 1 else dataset_size\n",
    "    client_indices = indices[start:end]\n",
    "    client_subset = Subset(mnist_train, client_indices)\n",
    "    dataloader = DataLoader(client_subset, batch_size=batch_size, shuffle=True)\n",
    "    clients_dataloaders.append(dataloader)\n",
    "\n",
    "print(f\"Prepared {num_clients} client dataloaders\")\n",
    "\n",
    "test_loader = DataLoader(dataset=mnist_test, batch_size=64, shuffle=False)"
   ]
  },
  {
   "cell_type": "code",
   "execution_count": null,
   "id": "ad44dee6",
   "metadata": {},
   "outputs": [
    {
     "name": "stdout",
     "output_type": "stream",
     "text": [
      "target is client 0\n",
      "Comparing target update with global update:\n",
      "Average MSE: 0.0071\n",
      "Fraction of exactly equal params: 0.0116\n",
      "Average cosine similarity: 0.9970\n",
      "Gradient Suppression Attack complete!\n"
     ]
    }
   ],
   "source": [
    "global_model, local_updates = gradient_suppression(\n",
    "    clients_dataloaders=clients_dataloaders,\n",
    "    input_shape=input_shape,\n",
    "    num_classes=num_classes,\n",
    "    trained_model_state_dict = trained_model_state_dict,\n",
    "    target=target,\n",
    "    epochs=epochs,\n",
    "    device=device\n",
    ")\n",
    "\n",
    "print(\"Gradient Suppression Attack complete!\")"
   ]
  },
  {
   "cell_type": "code",
   "execution_count": null,
   "id": "c8ac19db",
   "metadata": {},
   "outputs": [],
   "source": [
    "# save global update to file\n",
    "torch.save(global_model.state_dict(), 'global_update.pth')"
   ]
  }
 ],
 "metadata": {
  "kernelspec": {
   "display_name": ".venv",
   "language": "python",
   "name": "python3"
  },
  "language_info": {
   "codemirror_mode": {
    "name": "ipython",
    "version": 3
   },
   "file_extension": ".py",
   "mimetype": "text/x-python",
   "name": "python",
   "nbconvert_exporter": "python",
   "pygments_lexer": "ipython3",
   "version": "3.13.3"
  }
 },
 "nbformat": 4,
 "nbformat_minor": 5
}
